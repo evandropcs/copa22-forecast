{
 "cells": [
  {
   "cell_type": "markdown",
   "id": "09e0aeda",
   "metadata": {},
   "source": [
    "## Ideias\n",
    "\n",
    "- puxar dataframes e mostrar métodos básicos\n",
    "- algumas métricas legais, encontrar alguns casos do Brasil\n",
    "- plotar ratings no tempo\n",
    "- boas práticas de organização de código (identação, nomes)\n",
    "\n",
    "\n",
    "## Perguntas interessantes\n",
    "\n",
    "1. Qual o time com mais vitórias?\n",
    "2. Qual o time menos vitórias?\n",
    "3. Quantos jogos por ano? \n",
    "4. Quantos países sediam jogos por ano?\n",
    "5. Como é a distribuição de placares dos jogos? O que é uma distribuição de dados? \n",
    "6. Existem times que nunca se enfrentaram?\n",
    "\n",
    "Some suggestions\n",
    "· Can you predict what team is most likely to win the 2022 FIFA World Cup?\n",
    "· What team has the strongest defense, midfield, and offense players?\n",
    "· Is there really such a thing as a home team advantage?\n",
    "· Do teams with stronger offense players score more goals? And do teams with stronger goalkeepers receive fewer goals?\n",
    "· What team has the longest winning streak?\n",
    "· Does the best team always win? Can you explain why a weaker team sometimes win?"
   ]
  },
  {
   "cell_type": "code",
   "execution_count": null,
   "id": "e153c987",
   "metadata": {},
   "outputs": [],
   "source": []
  }
 ],
 "metadata": {
  "kernelspec": {
   "display_name": "Python 3 (ipykernel)",
   "language": "python",
   "name": "python3"
  },
  "language_info": {
   "codemirror_mode": {
    "name": "ipython",
    "version": 3
   },
   "file_extension": ".py",
   "mimetype": "text/x-python",
   "name": "python",
   "nbconvert_exporter": "python",
   "pygments_lexer": "ipython3",
   "version": "3.10.6"
  }
 },
 "nbformat": 4,
 "nbformat_minor": 5
}
