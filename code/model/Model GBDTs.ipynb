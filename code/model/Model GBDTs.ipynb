{
 "cells": [
  {
   "cell_type": "code",
   "execution_count": 1,
   "id": "cc652f30",
   "metadata": {},
   "outputs": [],
   "source": [
    "import pandas as pd\n",
    "import matplotlib.pyplot as plt\n",
    "import seaborn as sns\n",
    "import numpy as np\n",
    "import lightgbm as lgbm\n",
    "\n",
    "from sklearn.metrics import classification_report, accuracy_score\n",
    "from sklearn.metrics import confusion_matrix, plot_confusion_matrix\n",
    "import joblib\n",
    "\n",
    "import re \n",
    "\n",
    "import datetime \n",
    "\n",
    "plt.style.use(\"fivethirtyeight\")\n",
    "pd.options.mode.chained_assignment = None  # default='warn'"
   ]
  },
  {
   "cell_type": "code",
   "execution_count": 2,
   "id": "ff42ccc8",
   "metadata": {},
   "outputs": [],
   "source": [
    "def get_intermediate(df):\n",
    "    global _df\n",
    "    _df = df\n",
    "    return df"
   ]
  },
  {
   "cell_type": "code",
   "execution_count": 3,
   "id": "b7417d5c",
   "metadata": {},
   "outputs": [
    {
     "name": "stdout",
     "output_type": "stream",
     "text": [
      "elo_rating.csv\t\t\t\t fifa_world_cup_2022\r\n",
      "elo_rating_preprocessed.csv\t\t international_football_results\r\n",
      "fifa_ranking_before_wc.csv\t\t predictions\r\n",
      "fifa_ranking_before_wc_preprocessed.csv\r\n"
     ]
    }
   ],
   "source": [
    "!ls ../../datasets/"
   ]
  },
  {
   "cell_type": "markdown",
   "id": "9abd6353",
   "metadata": {},
   "source": [
    "## Modelagem\n",
    "\n",
    "Considerações:\n",
    "- Usamos dados de 2018 em diante para validação\n",
    "- Apesar da pandemia, houve jogos, inclusive de qualificação da FIFA.\n",
    "- Só podemos usar features que conseguimos estimar com boa confiança para as partidas da Copa de 2022. Isso vai guiar algumas decisões de ficar ou não com certas features. Para as métricas de times como defesa, ataque e goleiro, vamos manter o último dado disponível\n",
    "- removemos torneios com menos de 10 partidas"
   ]
  },
  {
   "cell_type": "markdown",
   "id": "6e024464",
   "metadata": {},
   "source": [
    "## Usando `fifa_world_cup_2022`"
   ]
  },
  {
   "cell_type": "code",
   "execution_count": 4,
   "id": "613ed2fc",
   "metadata": {},
   "outputs": [
    {
     "name": "stdout",
     "output_type": "stream",
     "text": [
      "# Players:  32\n"
     ]
    },
    {
     "data": {
      "text/plain": [
       "array(['Argentina', 'Australia', 'Belgium', 'Brazil', 'Cameroon',\n",
       "       'Canada', 'Costa Rica', 'Croatia', 'Denmark', 'Ecuador', 'England',\n",
       "       'France', 'Germany', 'Ghana', 'Iran', 'Japan', 'Mexico', 'Morocco',\n",
       "       'Netherlands', 'Poland', 'Portugal', 'Qatar', 'Saudi Arabia',\n",
       "       'Senegal', 'Serbia', 'South Korea', 'Spain', 'Switzerland',\n",
       "       'Tunisia', 'United States', 'Uruguay', 'Wales'], dtype=object)"
      ]
     },
     "execution_count": 4,
     "metadata": {},
     "output_type": "execute_result"
    }
   ],
   "source": [
    "def get_2022_players():\n",
    "    df = pd.read_csv(\"../../datasets/international_football_results/results_preprocessed.csv\")\n",
    "    players = (\n",
    "        df[\n",
    "            (df.tournament == 'FIFA World Cup')\n",
    "            & (df.year == 2022)\n",
    "        ]\n",
    "        [['home_team', 'away_team']]\n",
    "        .to_numpy()\n",
    "        .flatten()\n",
    "    )\n",
    "    return np.unique(players)\n",
    "\n",
    "players2022 = get_2022_players()\n",
    "print(\"# Players: \", len(players2022))\n",
    "players2022"
   ]
  },
  {
   "cell_type": "code",
   "execution_count": 5,
   "id": "37efc029",
   "metadata": {},
   "outputs": [
    {
     "data": {
      "text/html": [
       "<div>\n",
       "<style scoped>\n",
       "    .dataframe tbody tr th:only-of-type {\n",
       "        vertical-align: middle;\n",
       "    }\n",
       "\n",
       "    .dataframe tbody tr th {\n",
       "        vertical-align: top;\n",
       "    }\n",
       "\n",
       "    .dataframe thead th {\n",
       "        text-align: right;\n",
       "    }\n",
       "</style>\n",
       "<table border=\"1\" class=\"dataframe\">\n",
       "  <thead>\n",
       "    <tr style=\"text-align: right;\">\n",
       "      <th></th>\n",
       "      <th>date</th>\n",
       "      <th>home_team</th>\n",
       "      <th>away_team</th>\n",
       "      <th>home_team_continent</th>\n",
       "      <th>away_team_continent</th>\n",
       "      <th>home_team_fifa_rank</th>\n",
       "      <th>away_team_fifa_rank</th>\n",
       "      <th>home_team_total_fifa_points</th>\n",
       "      <th>away_team_total_fifa_points</th>\n",
       "      <th>home_team_score</th>\n",
       "      <th>...</th>\n",
       "      <th>shoot_out</th>\n",
       "      <th>home_team_result</th>\n",
       "      <th>home_team_goalkeeper_score</th>\n",
       "      <th>away_team_goalkeeper_score</th>\n",
       "      <th>home_team_mean_defense_score</th>\n",
       "      <th>home_team_mean_offense_score</th>\n",
       "      <th>home_team_mean_midfield_score</th>\n",
       "      <th>away_team_mean_defense_score</th>\n",
       "      <th>away_team_mean_offense_score</th>\n",
       "      <th>away_team_mean_midfield_score</th>\n",
       "    </tr>\n",
       "  </thead>\n",
       "  <tbody>\n",
       "    <tr>\n",
       "      <th>0</th>\n",
       "      <td>1993-08-08</td>\n",
       "      <td>Bolivia</td>\n",
       "      <td>Uruguay</td>\n",
       "      <td>South America</td>\n",
       "      <td>South America</td>\n",
       "      <td>59</td>\n",
       "      <td>22</td>\n",
       "      <td>0</td>\n",
       "      <td>0</td>\n",
       "      <td>3</td>\n",
       "      <td>...</td>\n",
       "      <td>No</td>\n",
       "      <td>Win</td>\n",
       "      <td>NaN</td>\n",
       "      <td>NaN</td>\n",
       "      <td>NaN</td>\n",
       "      <td>NaN</td>\n",
       "      <td>NaN</td>\n",
       "      <td>NaN</td>\n",
       "      <td>NaN</td>\n",
       "      <td>NaN</td>\n",
       "    </tr>\n",
       "    <tr>\n",
       "      <th>1</th>\n",
       "      <td>1993-08-08</td>\n",
       "      <td>Brazil</td>\n",
       "      <td>Mexico</td>\n",
       "      <td>South America</td>\n",
       "      <td>North America</td>\n",
       "      <td>8</td>\n",
       "      <td>14</td>\n",
       "      <td>0</td>\n",
       "      <td>0</td>\n",
       "      <td>1</td>\n",
       "      <td>...</td>\n",
       "      <td>No</td>\n",
       "      <td>Draw</td>\n",
       "      <td>NaN</td>\n",
       "      <td>NaN</td>\n",
       "      <td>NaN</td>\n",
       "      <td>NaN</td>\n",
       "      <td>NaN</td>\n",
       "      <td>NaN</td>\n",
       "      <td>NaN</td>\n",
       "      <td>NaN</td>\n",
       "    </tr>\n",
       "    <tr>\n",
       "      <th>2</th>\n",
       "      <td>1993-08-08</td>\n",
       "      <td>Ecuador</td>\n",
       "      <td>Venezuela</td>\n",
       "      <td>South America</td>\n",
       "      <td>South America</td>\n",
       "      <td>35</td>\n",
       "      <td>94</td>\n",
       "      <td>0</td>\n",
       "      <td>0</td>\n",
       "      <td>5</td>\n",
       "      <td>...</td>\n",
       "      <td>No</td>\n",
       "      <td>Win</td>\n",
       "      <td>NaN</td>\n",
       "      <td>NaN</td>\n",
       "      <td>NaN</td>\n",
       "      <td>NaN</td>\n",
       "      <td>NaN</td>\n",
       "      <td>NaN</td>\n",
       "      <td>NaN</td>\n",
       "      <td>NaN</td>\n",
       "    </tr>\n",
       "    <tr>\n",
       "      <th>4</th>\n",
       "      <td>1993-08-08</td>\n",
       "      <td>Paraguay</td>\n",
       "      <td>Argentina</td>\n",
       "      <td>South America</td>\n",
       "      <td>South America</td>\n",
       "      <td>67</td>\n",
       "      <td>5</td>\n",
       "      <td>0</td>\n",
       "      <td>0</td>\n",
       "      <td>1</td>\n",
       "      <td>...</td>\n",
       "      <td>No</td>\n",
       "      <td>Lose</td>\n",
       "      <td>NaN</td>\n",
       "      <td>NaN</td>\n",
       "      <td>NaN</td>\n",
       "      <td>NaN</td>\n",
       "      <td>NaN</td>\n",
       "      <td>NaN</td>\n",
       "      <td>NaN</td>\n",
       "      <td>NaN</td>\n",
       "    </tr>\n",
       "    <tr>\n",
       "      <th>9</th>\n",
       "      <td>1993-08-11</td>\n",
       "      <td>Sweden</td>\n",
       "      <td>Switzerland</td>\n",
       "      <td>Europe</td>\n",
       "      <td>Europe</td>\n",
       "      <td>4</td>\n",
       "      <td>3</td>\n",
       "      <td>0</td>\n",
       "      <td>0</td>\n",
       "      <td>1</td>\n",
       "      <td>...</td>\n",
       "      <td>No</td>\n",
       "      <td>Lose</td>\n",
       "      <td>NaN</td>\n",
       "      <td>NaN</td>\n",
       "      <td>NaN</td>\n",
       "      <td>NaN</td>\n",
       "      <td>NaN</td>\n",
       "      <td>NaN</td>\n",
       "      <td>NaN</td>\n",
       "      <td>NaN</td>\n",
       "    </tr>\n",
       "  </tbody>\n",
       "</table>\n",
       "<p>5 rows × 25 columns</p>\n",
       "</div>"
      ],
      "text/plain": [
       "         date home_team    away_team home_team_continent away_team_continent  \\\n",
       "0  1993-08-08   Bolivia      Uruguay       South America       South America   \n",
       "1  1993-08-08    Brazil       Mexico       South America       North America   \n",
       "2  1993-08-08   Ecuador    Venezuela       South America       South America   \n",
       "4  1993-08-08  Paraguay    Argentina       South America       South America   \n",
       "9  1993-08-11    Sweden  Switzerland              Europe              Europe   \n",
       "\n",
       "   home_team_fifa_rank  away_team_fifa_rank  home_team_total_fifa_points  \\\n",
       "0                   59                   22                            0   \n",
       "1                    8                   14                            0   \n",
       "2                   35                   94                            0   \n",
       "4                   67                    5                            0   \n",
       "9                    4                    3                            0   \n",
       "\n",
       "   away_team_total_fifa_points  home_team_score  ...  shoot_out  \\\n",
       "0                            0                3  ...         No   \n",
       "1                            0                1  ...         No   \n",
       "2                            0                5  ...         No   \n",
       "4                            0                1  ...         No   \n",
       "9                            0                1  ...         No   \n",
       "\n",
       "  home_team_result home_team_goalkeeper_score away_team_goalkeeper_score  \\\n",
       "0              Win                        NaN                        NaN   \n",
       "1             Draw                        NaN                        NaN   \n",
       "2              Win                        NaN                        NaN   \n",
       "4             Lose                        NaN                        NaN   \n",
       "9             Lose                        NaN                        NaN   \n",
       "\n",
       "   home_team_mean_defense_score home_team_mean_offense_score  \\\n",
       "0                           NaN                          NaN   \n",
       "1                           NaN                          NaN   \n",
       "2                           NaN                          NaN   \n",
       "4                           NaN                          NaN   \n",
       "9                           NaN                          NaN   \n",
       "\n",
       "  home_team_mean_midfield_score  away_team_mean_defense_score  \\\n",
       "0                           NaN                           NaN   \n",
       "1                           NaN                           NaN   \n",
       "2                           NaN                           NaN   \n",
       "4                           NaN                           NaN   \n",
       "9                           NaN                           NaN   \n",
       "\n",
       "   away_team_mean_offense_score  away_team_mean_midfield_score  \n",
       "0                           NaN                            NaN  \n",
       "1                           NaN                            NaN  \n",
       "2                           NaN                            NaN  \n",
       "4                           NaN                            NaN  \n",
       "9                           NaN                            NaN  \n",
       "\n",
       "[5 rows x 25 columns]"
      ]
     },
     "execution_count": 5,
     "metadata": {},
     "output_type": "execute_result"
    }
   ],
   "source": [
    "def merge_names(df):\n",
    "    mapper = {\n",
    "        'IR Iran': 'Iran',\n",
    "        'USA': 'United States',\n",
    "        'Korea Republic': 'South Korea'\n",
    "    }\n",
    "    for col in ['home_team', 'away_team']:\n",
    "        df[col] = df[col].apply(lambda x: mapper.get(x, x))\n",
    "    return df\n",
    "    \n",
    "\n",
    "df_fifa_world_cup_2022 = (\n",
    "    pd.read_csv('../../datasets/fifa_world_cup_2022/fifa_world_cup_2022.csv')\n",
    "    .pipe(merge_names)\n",
    "    .pipe(get_intermediate)\n",
    "    [(_df.home_team.isin(players2022)) | (_df.away_team.isin(players2022))]\n",
    ")\n",
    "\n",
    "\n",
    "df_fifa_world_cup_2022.head()"
   ]
  },
  {
   "cell_type": "markdown",
   "id": "af24b6e2",
   "metadata": {},
   "source": [
    "#### Filtra apenas times da copa"
   ]
  },
  {
   "cell_type": "code",
   "execution_count": 6,
   "id": "4ccdf70a",
   "metadata": {},
   "outputs": [],
   "source": [
    "all_players = set(df_fifa_world_cup_2022.home_team.to_list() + df_fifa_world_cup_2022.away_team.to_list())\n",
    "\n",
    "assert set(players2022).issubset(all_players), [t for t in players2022 if t not in all_players]"
   ]
  },
  {
   "cell_type": "code",
   "execution_count": 7,
   "id": "c8d5ba2d",
   "metadata": {},
   "outputs": [
    {
     "name": "stdout",
     "output_type": "stream",
     "text": [
      "<class 'pandas.core.frame.DataFrame'>\n",
      "Int64Index: 9321 entries, 0 to 23920\n",
      "Data columns (total 25 columns):\n",
      " #   Column                         Non-Null Count  Dtype  \n",
      "---  ------                         --------------  -----  \n",
      " 0   date                           9321 non-null   object \n",
      " 1   home_team                      9321 non-null   object \n",
      " 2   away_team                      9321 non-null   object \n",
      " 3   home_team_continent            9321 non-null   object \n",
      " 4   away_team_continent            9321 non-null   object \n",
      " 5   home_team_fifa_rank            9321 non-null   int64  \n",
      " 6   away_team_fifa_rank            9321 non-null   int64  \n",
      " 7   home_team_total_fifa_points    9321 non-null   int64  \n",
      " 8   away_team_total_fifa_points    9321 non-null   int64  \n",
      " 9   home_team_score                9321 non-null   int64  \n",
      " 10  away_team_score                9321 non-null   int64  \n",
      " 11  tournament                     9321 non-null   object \n",
      " 12  city                           9321 non-null   object \n",
      " 13  country                        9321 non-null   object \n",
      " 14  neutral_location               9321 non-null   bool   \n",
      " 15  shoot_out                      9321 non-null   object \n",
      " 16  home_team_result               9321 non-null   object \n",
      " 17  home_team_goalkeeper_score     4647 non-null   float64\n",
      " 18  away_team_goalkeeper_score     4527 non-null   float64\n",
      " 19  home_team_mean_defense_score   4576 non-null   float64\n",
      " 20  home_team_mean_offense_score   4760 non-null   float64\n",
      " 21  home_team_mean_midfield_score  4698 non-null   float64\n",
      " 22  away_team_mean_defense_score   4468 non-null   float64\n",
      " 23  away_team_mean_offense_score   4664 non-null   float64\n",
      " 24  away_team_mean_midfield_score  4588 non-null   float64\n",
      "dtypes: bool(1), float64(8), int64(6), object(10)\n",
      "memory usage: 1.8+ MB\n"
     ]
    }
   ],
   "source": [
    "df_fifa_world_cup_2022.info()"
   ]
  },
  {
   "cell_type": "markdown",
   "id": "a8bb2874",
   "metadata": {},
   "source": [
    "## Preprocess"
   ]
  },
  {
   "cell_type": "code",
   "execution_count": 20,
   "id": "89b1c18c",
   "metadata": {},
   "outputs": [
    {
     "data": {
      "text/html": [
       "<div>\n",
       "<style scoped>\n",
       "    .dataframe tbody tr th:only-of-type {\n",
       "        vertical-align: middle;\n",
       "    }\n",
       "\n",
       "    .dataframe tbody tr th {\n",
       "        vertical-align: top;\n",
       "    }\n",
       "\n",
       "    .dataframe thead tr th {\n",
       "        text-align: left;\n",
       "    }\n",
       "</style>\n",
       "<table border=\"1\" class=\"dataframe\">\n",
       "  <thead>\n",
       "    <tr>\n",
       "      <th></th>\n",
       "      <th>tournament</th>\n",
       "      <th>home_team</th>\n",
       "      <th colspan=\"2\" halign=\"left\">date</th>\n",
       "    </tr>\n",
       "    <tr>\n",
       "      <th></th>\n",
       "      <th></th>\n",
       "      <th>count</th>\n",
       "      <th>min</th>\n",
       "      <th>max</th>\n",
       "    </tr>\n",
       "  </thead>\n",
       "  <tbody>\n",
       "    <tr>\n",
       "      <th>0</th>\n",
       "      <td>Friendly</td>\n",
       "      <td>3587</td>\n",
       "      <td>1993-08-08</td>\n",
       "      <td>2022-06-14</td>\n",
       "    </tr>\n",
       "    <tr>\n",
       "      <th>1</th>\n",
       "      <td>FIFA World Cup qualification</td>\n",
       "      <td>2349</td>\n",
       "      <td>1993-08-08</td>\n",
       "      <td>2022-06-14</td>\n",
       "    </tr>\n",
       "    <tr>\n",
       "      <th>2</th>\n",
       "      <td>UEFA Euro qualification</td>\n",
       "      <td>708</td>\n",
       "      <td>1994-09-04</td>\n",
       "      <td>2020-11-12</td>\n",
       "    </tr>\n",
       "    <tr>\n",
       "      <th>3</th>\n",
       "      <td>FIFA World Cup</td>\n",
       "      <td>384</td>\n",
       "      <td>1994-06-17</td>\n",
       "      <td>2018-07-15</td>\n",
       "    </tr>\n",
       "    <tr>\n",
       "      <th>4</th>\n",
       "      <td>African Cup of Nations qualification</td>\n",
       "      <td>250</td>\n",
       "      <td>1994-09-04</td>\n",
       "      <td>2022-06-13</td>\n",
       "    </tr>\n",
       "    <tr>\n",
       "      <th>5</th>\n",
       "      <td>African Cup of Nations</td>\n",
       "      <td>246</td>\n",
       "      <td>1994-03-26</td>\n",
       "      <td>2022-02-06</td>\n",
       "    </tr>\n",
       "    <tr>\n",
       "      <th>6</th>\n",
       "      <td>Copa América</td>\n",
       "      <td>225</td>\n",
       "      <td>1995-07-05</td>\n",
       "      <td>2021-07-10</td>\n",
       "    </tr>\n",
       "    <tr>\n",
       "      <th>7</th>\n",
       "      <td>UEFA Euro</td>\n",
       "      <td>209</td>\n",
       "      <td>1996-06-08</td>\n",
       "      <td>2021-07-11</td>\n",
       "    </tr>\n",
       "    <tr>\n",
       "      <th>8</th>\n",
       "      <td>Gold Cup</td>\n",
       "      <td>203</td>\n",
       "      <td>1996-01-10</td>\n",
       "      <td>2021-08-01</td>\n",
       "    </tr>\n",
       "    <tr>\n",
       "      <th>9</th>\n",
       "      <td>AFC Asian Cup</td>\n",
       "      <td>155</td>\n",
       "      <td>1996-12-04</td>\n",
       "      <td>2019-02-01</td>\n",
       "    </tr>\n",
       "    <tr>\n",
       "      <th>10</th>\n",
       "      <td>UEFA Nations League</td>\n",
       "      <td>137</td>\n",
       "      <td>2018-09-06</td>\n",
       "      <td>2022-06-14</td>\n",
       "    </tr>\n",
       "    <tr>\n",
       "      <th>11</th>\n",
       "      <td>Confederations Cup</td>\n",
       "      <td>124</td>\n",
       "      <td>1995-01-06</td>\n",
       "      <td>2017-07-02</td>\n",
       "    </tr>\n",
       "    <tr>\n",
       "      <th>12</th>\n",
       "      <td>AFC Asian Cup qualification</td>\n",
       "      <td>118</td>\n",
       "      <td>1996-01-24</td>\n",
       "      <td>2014-03-05</td>\n",
       "    </tr>\n",
       "    <tr>\n",
       "      <th>13</th>\n",
       "      <td>Gulf Cup</td>\n",
       "      <td>104</td>\n",
       "      <td>1994-11-03</td>\n",
       "      <td>2019-12-08</td>\n",
       "    </tr>\n",
       "  </tbody>\n",
       "</table>\n",
       "</div>"
      ],
      "text/plain": [
       "                              tournament home_team        date            \n",
       "                                             count         min         max\n",
       "0                               Friendly      3587  1993-08-08  2022-06-14\n",
       "1           FIFA World Cup qualification      2349  1993-08-08  2022-06-14\n",
       "2                UEFA Euro qualification       708  1994-09-04  2020-11-12\n",
       "3                         FIFA World Cup       384  1994-06-17  2018-07-15\n",
       "4   African Cup of Nations qualification       250  1994-09-04  2022-06-13\n",
       "5                 African Cup of Nations       246  1994-03-26  2022-02-06\n",
       "6                           Copa América       225  1995-07-05  2021-07-10\n",
       "7                              UEFA Euro       209  1996-06-08  2021-07-11\n",
       "8                               Gold Cup       203  1996-01-10  2021-08-01\n",
       "9                          AFC Asian Cup       155  1996-12-04  2019-02-01\n",
       "10                   UEFA Nations League       137  2018-09-06  2022-06-14\n",
       "11                    Confederations Cup       124  1995-01-06  2017-07-02\n",
       "12           AFC Asian Cup qualification       118  1996-01-24  2014-03-05\n",
       "13                              Gulf Cup       104  1994-11-03  2019-12-08"
      ]
     },
     "execution_count": 20,
     "metadata": {},
     "output_type": "execute_result"
    }
   ],
   "source": [
    "elegible_tournaments = (\n",
    "    df_fifa_world_cup_2022\n",
    "    .groupby('tournament')\n",
    "    .agg({\n",
    "        'home_team': 'count',\n",
    "        'date': ['min', 'max'],\n",
    "    })\n",
    "    .sort_values(by=[('home_team', 'count')], ascending=False)\n",
    "    .reset_index()\n",
    "    .pipe(get_intermediate)\n",
    "    [_df[('home_team', 'count')] > 100]\n",
    ")\n",
    "\n",
    "elegible_tournaments"
   ]
  },
  {
   "cell_type": "code",
   "execution_count": 60,
   "id": "d742737f",
   "metadata": {},
   "outputs": [],
   "source": [
    "features_cols = [\n",
    "    'home_team',\n",
    "    'away_team',\n",
    "    'home_team_fifa_rank',\n",
    "    'away_team_fifa_rank',\n",
    "    'home_team_total_fifa_points',\n",
    "    'away_team_total_fifa_points',\n",
    "#     'home_team_score',\n",
    "#     'away_team_score',\n",
    "    'tournament',\n",
    "    'neutral_location',\n",
    "    'home_team_goalkeeper_score',\n",
    "    'away_team_goalkeeper_score',\n",
    "    'home_team_mean_defense_score',\n",
    "    'home_team_mean_offense_score',\n",
    "    'home_team_mean_midfield_score',\n",
    "    'away_team_mean_defense_score',\n",
    "    'away_team_mean_offense_score',\n",
    "    'away_team_mean_midfield_score'\n",
    "]\n",
    "\n",
    "target_col = ['home_team_result']\n",
    "\n",
    "def make_label(x):\n",
    "    if x == 'Win':\n",
    "        return 1\n",
    "    elif x == 'Lose':\n",
    "        return -1 \n",
    "    elif x == 'Draw': \n",
    "        return 0\n",
    "    \n",
    "def add_features(df):\n",
    "    df['home2away_fifa_point_diff'] = df.home_team_total_fifa_points - df.away_team_total_fifa_points\n",
    "    df['home2away_fifa_point_pdiff'] = df.home_team_total_fifa_points/df.away_team_total_fifa_points - 1\n",
    "    \n",
    "    return df\n",
    "    \n",
    "def preprocess_fifa_world_cup_2022(\n",
    "    df, \n",
    "    elegible_tournaments=elegible_tournaments,\n",
    "):\n",
    "    df = df.copy()\n",
    "    df = df[df.tournament.isin(elegible_tournaments.tournament)]\n",
    "    df = (\n",
    "        df\n",
    "        .assign(date = pd.to_datetime(df.date))\n",
    "        .pipe(get_intermediate)\n",
    "        .assign(year = _df.date.dt.year)\n",
    "        .assign(neutral_location = _df.neutral_location.astype('bool'))\n",
    "        .set_index('date')\n",
    "        .pipe(add_features)\n",
    "        \n",
    "    )\n",
    "    df['home_team_result'] = df['home_team_result'].apply(lambda x: make_label(x))\n",
    "    df = df[[c for c in df.columns if c!='home_team_result'] + ['home_team_result']]\n",
    "        \n",
    "    \n",
    "    return df"
   ]
  },
  {
   "cell_type": "code",
   "execution_count": 76,
   "id": "12ae249c",
   "metadata": {},
   "outputs": [
    {
     "name": "stdout",
     "output_type": "stream",
     "text": [
      "<class 'pandas.core.frame.DataFrame'>\n",
      "DatetimeIndex: 8799 entries, 1993-08-08 to 2022-06-14\n",
      "Data columns (total 27 columns):\n",
      " #   Column                         Non-Null Count  Dtype  \n",
      "---  ------                         --------------  -----  \n",
      " 0   home_team                      8799 non-null   object \n",
      " 1   away_team                      8799 non-null   object \n",
      " 2   home_team_continent            8799 non-null   object \n",
      " 3   away_team_continent            8799 non-null   object \n",
      " 4   home_team_fifa_rank            8799 non-null   int64  \n",
      " 5   away_team_fifa_rank            8799 non-null   int64  \n",
      " 6   home_team_total_fifa_points    8799 non-null   int64  \n",
      " 7   away_team_total_fifa_points    8799 non-null   int64  \n",
      " 8   home_team_score                8799 non-null   int64  \n",
      " 9   away_team_score                8799 non-null   int64  \n",
      " 10  tournament                     8799 non-null   object \n",
      " 11  city                           8799 non-null   object \n",
      " 12  country                        8799 non-null   object \n",
      " 13  neutral_location               8799 non-null   bool   \n",
      " 14  shoot_out                      8799 non-null   object \n",
      " 15  home_team_goalkeeper_score     4474 non-null   float64\n",
      " 16  away_team_goalkeeper_score     4356 non-null   float64\n",
      " 17  home_team_mean_defense_score   4391 non-null   float64\n",
      " 18  home_team_mean_offense_score   4562 non-null   float64\n",
      " 19  home_team_mean_midfield_score  4496 non-null   float64\n",
      " 20  away_team_mean_defense_score   4289 non-null   float64\n",
      " 21  away_team_mean_offense_score   4476 non-null   float64\n",
      " 22  away_team_mean_midfield_score  4398 non-null   float64\n",
      " 23  year                           8799 non-null   int64  \n",
      " 24  home2away_fifa_point_diff      8799 non-null   int64  \n",
      " 25  home2away_fifa_point_pdiff     3352 non-null   float64\n",
      " 26  home_team_result               8799 non-null   int64  \n",
      "dtypes: bool(1), float64(9), int64(9), object(8)\n",
      "memory usage: 1.8+ MB\n"
     ]
    }
   ],
   "source": [
    "X = preprocess_fifa_world_cup_2022(df_fifa_world_cup_2022)\n",
    "\n",
    "X.info()"
   ]
  },
  {
   "cell_type": "code",
   "execution_count": 128,
   "id": "a6c155f1",
   "metadata": {},
   "outputs": [],
   "source": [
    "def get_rolling_feature(X, cols, aggregation):\n",
    "    return (\n",
    "        X\n",
    "        .rolling(7, min_periods=1)\n",
    "        .agg({col: aggregation for col in cols})\n",
    "    )\n",
    "\n",
    "def normalize_df(df, side, team):\n",
    "    l = []\n",
    "    if side == 'away':\n",
    "        df['away_team_result'] = np.sign(-1 * df['home_team_result'])\n",
    "        l = ['home2away_fifa_point_diff', 'home2away_fifa_point_pdiff']\n",
    "    side_cols = [col for col in df.columns if f'{side}_' in col and col not in l]\n",
    "    df_side = (\n",
    "        df\n",
    "        [df[f'{side}_team'] == team]\n",
    "        [side_cols]\n",
    "        .rename(columns={col: re.sub(f'{side}_', '', col) for col in side_cols})\n",
    "    )\n",
    "    return df_side\n",
    "    \n",
    "\n",
    "def normalize_matches(df, team):\n",
    "    \"\"\"\n",
    "    one row per team and date of match.\n",
    "    \"\"\"\n",
    "    df = df.copy()\n",
    "    df_home = normalize_df(df, 'home', team)\n",
    "    df_away = normalize_df(df, 'away', team)\n",
    "    df_norm = pd.concat([df_home, df_away], axis=0).sort_index()\n",
    "\n",
    "    _df = get_rolling_feature(df_norm, ['team_result'], 'sum')\n",
    "    df_norm['team_results_mm7'] = _df\n",
    "    \n",
    "    return df_norm\n",
    "\n",
    "def get_features_per_team(df, teams):\n",
    "    df_final = pd.DataFrame()\n",
    "    for team in teams:\n",
    "        df_norm = normalize_matches(df, team)\n",
    "        if not df_final.empty:\n",
    "            df_final = pd.concat([df_final, df_norm],axis=0)\n",
    "        else:\n",
    "            df_final = df_norm\n",
    "    return df_final"
   ]
  },
  {
   "cell_type": "code",
   "execution_count": 129,
   "id": "90227bb6",
   "metadata": {},
   "outputs": [
    {
     "data": {
      "text/html": [
       "<div>\n",
       "<style scoped>\n",
       "    .dataframe tbody tr th:only-of-type {\n",
       "        vertical-align: middle;\n",
       "    }\n",
       "\n",
       "    .dataframe tbody tr th {\n",
       "        vertical-align: top;\n",
       "    }\n",
       "\n",
       "    .dataframe thead th {\n",
       "        text-align: right;\n",
       "    }\n",
       "</style>\n",
       "<table border=\"1\" class=\"dataframe\">\n",
       "  <thead>\n",
       "    <tr style=\"text-align: right;\">\n",
       "      <th></th>\n",
       "      <th>team</th>\n",
       "      <th>team_continent</th>\n",
       "      <th>team_fifa_rank</th>\n",
       "      <th>team_total_fifa_points</th>\n",
       "      <th>team_score</th>\n",
       "      <th>team_goalkeeper_score</th>\n",
       "      <th>team_mean_defense_score</th>\n",
       "      <th>team_mean_offense_score</th>\n",
       "      <th>team_mean_midfield_score</th>\n",
       "      <th>team_result</th>\n",
       "      <th>team_results_mm7</th>\n",
       "    </tr>\n",
       "    <tr>\n",
       "      <th>date</th>\n",
       "      <th></th>\n",
       "      <th></th>\n",
       "      <th></th>\n",
       "      <th></th>\n",
       "      <th></th>\n",
       "      <th></th>\n",
       "      <th></th>\n",
       "      <th></th>\n",
       "      <th></th>\n",
       "      <th></th>\n",
       "      <th></th>\n",
       "    </tr>\n",
       "  </thead>\n",
       "  <tbody>\n",
       "    <tr>\n",
       "      <th>1993-08-08</th>\n",
       "      <td>Argentina</td>\n",
       "      <td>South America</td>\n",
       "      <td>5</td>\n",
       "      <td>0</td>\n",
       "      <td>3</td>\n",
       "      <td>NaN</td>\n",
       "      <td>NaN</td>\n",
       "      <td>NaN</td>\n",
       "      <td>NaN</td>\n",
       "      <td>1</td>\n",
       "      <td>1.0</td>\n",
       "    </tr>\n",
       "    <tr>\n",
       "      <th>1993-08-15</th>\n",
       "      <td>Argentina</td>\n",
       "      <td>South America</td>\n",
       "      <td>5</td>\n",
       "      <td>0</td>\n",
       "      <td>1</td>\n",
       "      <td>NaN</td>\n",
       "      <td>NaN</td>\n",
       "      <td>NaN</td>\n",
       "      <td>NaN</td>\n",
       "      <td>-1</td>\n",
       "      <td>0.0</td>\n",
       "    </tr>\n",
       "    <tr>\n",
       "      <th>1993-08-22</th>\n",
       "      <td>Argentina</td>\n",
       "      <td>South America</td>\n",
       "      <td>5</td>\n",
       "      <td>0</td>\n",
       "      <td>2</td>\n",
       "      <td>NaN</td>\n",
       "      <td>NaN</td>\n",
       "      <td>NaN</td>\n",
       "      <td>NaN</td>\n",
       "      <td>1</td>\n",
       "      <td>1.0</td>\n",
       "    </tr>\n",
       "    <tr>\n",
       "      <th>1993-08-29</th>\n",
       "      <td>Argentina</td>\n",
       "      <td>South America</td>\n",
       "      <td>5</td>\n",
       "      <td>0</td>\n",
       "      <td>0</td>\n",
       "      <td>NaN</td>\n",
       "      <td>NaN</td>\n",
       "      <td>NaN</td>\n",
       "      <td>NaN</td>\n",
       "      <td>0</td>\n",
       "      <td>1.0</td>\n",
       "    </tr>\n",
       "    <tr>\n",
       "      <th>1993-09-05</th>\n",
       "      <td>Argentina</td>\n",
       "      <td>South America</td>\n",
       "      <td>5</td>\n",
       "      <td>0</td>\n",
       "      <td>0</td>\n",
       "      <td>NaN</td>\n",
       "      <td>NaN</td>\n",
       "      <td>NaN</td>\n",
       "      <td>NaN</td>\n",
       "      <td>-1</td>\n",
       "      <td>0.0</td>\n",
       "    </tr>\n",
       "  </tbody>\n",
       "</table>\n",
       "</div>"
      ],
      "text/plain": [
       "                 team team_continent  team_fifa_rank  team_total_fifa_points  \\\n",
       "date                                                                           \n",
       "1993-08-08  Argentina  South America               5                       0   \n",
       "1993-08-15  Argentina  South America               5                       0   \n",
       "1993-08-22  Argentina  South America               5                       0   \n",
       "1993-08-29  Argentina  South America               5                       0   \n",
       "1993-09-05  Argentina  South America               5                       0   \n",
       "\n",
       "            team_score  team_goalkeeper_score  team_mean_defense_score  \\\n",
       "date                                                                     \n",
       "1993-08-08           3                    NaN                      NaN   \n",
       "1993-08-15           1                    NaN                      NaN   \n",
       "1993-08-22           2                    NaN                      NaN   \n",
       "1993-08-29           0                    NaN                      NaN   \n",
       "1993-09-05           0                    NaN                      NaN   \n",
       "\n",
       "            team_mean_offense_score  team_mean_midfield_score  team_result  \\\n",
       "date                                                                         \n",
       "1993-08-08                      NaN                       NaN            1   \n",
       "1993-08-15                      NaN                       NaN           -1   \n",
       "1993-08-22                      NaN                       NaN            1   \n",
       "1993-08-29                      NaN                       NaN            0   \n",
       "1993-09-05                      NaN                       NaN           -1   \n",
       "\n",
       "            team_results_mm7  \n",
       "date                          \n",
       "1993-08-08               1.0  \n",
       "1993-08-15               0.0  \n",
       "1993-08-22               1.0  \n",
       "1993-08-29               1.0  \n",
       "1993-09-05               0.0  "
      ]
     },
     "execution_count": 129,
     "metadata": {},
     "output_type": "execute_result"
    }
   ],
   "source": [
    "df_norm_features = get_features_per_team(X, players2022)\n",
    "df_norm_features.head()"
   ]
  },
  {
   "cell_type": "code",
   "execution_count": 130,
   "id": "93ec1933",
   "metadata": {},
   "outputs": [
    {
     "data": {
      "text/html": [
       "<div>\n",
       "<style scoped>\n",
       "    .dataframe tbody tr th:only-of-type {\n",
       "        vertical-align: middle;\n",
       "    }\n",
       "\n",
       "    .dataframe tbody tr th {\n",
       "        vertical-align: top;\n",
       "    }\n",
       "\n",
       "    .dataframe thead th {\n",
       "        text-align: right;\n",
       "    }\n",
       "</style>\n",
       "<table border=\"1\" class=\"dataframe\">\n",
       "  <thead>\n",
       "    <tr style=\"text-align: right;\">\n",
       "      <th></th>\n",
       "      <th>team</th>\n",
       "      <th>team_continent</th>\n",
       "      <th>team_fifa_rank</th>\n",
       "      <th>team_total_fifa_points</th>\n",
       "      <th>team_score</th>\n",
       "      <th>team_goalkeeper_score</th>\n",
       "      <th>team_mean_defense_score</th>\n",
       "      <th>team_mean_offense_score</th>\n",
       "      <th>team_mean_midfield_score</th>\n",
       "      <th>team_result</th>\n",
       "      <th>team_results_mm7</th>\n",
       "    </tr>\n",
       "    <tr>\n",
       "      <th>date</th>\n",
       "      <th></th>\n",
       "      <th></th>\n",
       "      <th></th>\n",
       "      <th></th>\n",
       "      <th></th>\n",
       "      <th></th>\n",
       "      <th></th>\n",
       "      <th></th>\n",
       "      <th></th>\n",
       "      <th></th>\n",
       "      <th></th>\n",
       "    </tr>\n",
       "  </thead>\n",
       "  <tbody>\n",
       "    <tr>\n",
       "      <th>1993-08-08</th>\n",
       "      <td>Brazil</td>\n",
       "      <td>South America</td>\n",
       "      <td>8</td>\n",
       "      <td>0</td>\n",
       "      <td>1</td>\n",
       "      <td>NaN</td>\n",
       "      <td>NaN</td>\n",
       "      <td>NaN</td>\n",
       "      <td>NaN</td>\n",
       "      <td>0</td>\n",
       "      <td>0.0</td>\n",
       "    </tr>\n",
       "    <tr>\n",
       "      <th>1993-08-15</th>\n",
       "      <td>Brazil</td>\n",
       "      <td>South America</td>\n",
       "      <td>8</td>\n",
       "      <td>0</td>\n",
       "      <td>1</td>\n",
       "      <td>NaN</td>\n",
       "      <td>NaN</td>\n",
       "      <td>NaN</td>\n",
       "      <td>NaN</td>\n",
       "      <td>0</td>\n",
       "      <td>0.0</td>\n",
       "    </tr>\n",
       "    <tr>\n",
       "      <th>1993-08-22</th>\n",
       "      <td>Brazil</td>\n",
       "      <td>South America</td>\n",
       "      <td>8</td>\n",
       "      <td>0</td>\n",
       "      <td>2</td>\n",
       "      <td>NaN</td>\n",
       "      <td>NaN</td>\n",
       "      <td>NaN</td>\n",
       "      <td>NaN</td>\n",
       "      <td>1</td>\n",
       "      <td>1.0</td>\n",
       "    </tr>\n",
       "    <tr>\n",
       "      <th>1993-08-29</th>\n",
       "      <td>Brazil</td>\n",
       "      <td>South America</td>\n",
       "      <td>8</td>\n",
       "      <td>0</td>\n",
       "      <td>6</td>\n",
       "      <td>NaN</td>\n",
       "      <td>NaN</td>\n",
       "      <td>NaN</td>\n",
       "      <td>NaN</td>\n",
       "      <td>1</td>\n",
       "      <td>2.0</td>\n",
       "    </tr>\n",
       "    <tr>\n",
       "      <th>1993-09-05</th>\n",
       "      <td>Brazil</td>\n",
       "      <td>South America</td>\n",
       "      <td>8</td>\n",
       "      <td>0</td>\n",
       "      <td>4</td>\n",
       "      <td>NaN</td>\n",
       "      <td>NaN</td>\n",
       "      <td>NaN</td>\n",
       "      <td>NaN</td>\n",
       "      <td>1</td>\n",
       "      <td>3.0</td>\n",
       "    </tr>\n",
       "    <tr>\n",
       "      <th>...</th>\n",
       "      <td>...</td>\n",
       "      <td>...</td>\n",
       "      <td>...</td>\n",
       "      <td>...</td>\n",
       "      <td>...</td>\n",
       "      <td>...</td>\n",
       "      <td>...</td>\n",
       "      <td>...</td>\n",
       "      <td>...</td>\n",
       "      <td>...</td>\n",
       "      <td>...</td>\n",
       "    </tr>\n",
       "    <tr>\n",
       "      <th>2022-02-01</th>\n",
       "      <td>Brazil</td>\n",
       "      <td>South America</td>\n",
       "      <td>2</td>\n",
       "      <td>1826</td>\n",
       "      <td>4</td>\n",
       "      <td>89.0</td>\n",
       "      <td>84.8</td>\n",
       "      <td>86.3</td>\n",
       "      <td>85.5</td>\n",
       "      <td>1</td>\n",
       "      <td>4.0</td>\n",
       "    </tr>\n",
       "    <tr>\n",
       "      <th>2022-03-24</th>\n",
       "      <td>Brazil</td>\n",
       "      <td>South America</td>\n",
       "      <td>2</td>\n",
       "      <td>1823</td>\n",
       "      <td>4</td>\n",
       "      <td>89.0</td>\n",
       "      <td>84.8</td>\n",
       "      <td>86.3</td>\n",
       "      <td>85.5</td>\n",
       "      <td>1</td>\n",
       "      <td>4.0</td>\n",
       "    </tr>\n",
       "    <tr>\n",
       "      <th>2022-03-29</th>\n",
       "      <td>Brazil</td>\n",
       "      <td>South America</td>\n",
       "      <td>2</td>\n",
       "      <td>1823</td>\n",
       "      <td>4</td>\n",
       "      <td>89.0</td>\n",
       "      <td>84.8</td>\n",
       "      <td>86.3</td>\n",
       "      <td>85.5</td>\n",
       "      <td>1</td>\n",
       "      <td>5.0</td>\n",
       "    </tr>\n",
       "    <tr>\n",
       "      <th>2022-06-02</th>\n",
       "      <td>Brazil</td>\n",
       "      <td>South America</td>\n",
       "      <td>1</td>\n",
       "      <td>1832</td>\n",
       "      <td>5</td>\n",
       "      <td>89.0</td>\n",
       "      <td>84.8</td>\n",
       "      <td>86.3</td>\n",
       "      <td>85.5</td>\n",
       "      <td>1</td>\n",
       "      <td>5.0</td>\n",
       "    </tr>\n",
       "    <tr>\n",
       "      <th>2022-06-06</th>\n",
       "      <td>Brazil</td>\n",
       "      <td>South America</td>\n",
       "      <td>1</td>\n",
       "      <td>1832</td>\n",
       "      <td>1</td>\n",
       "      <td>89.0</td>\n",
       "      <td>84.8</td>\n",
       "      <td>86.3</td>\n",
       "      <td>85.5</td>\n",
       "      <td>1</td>\n",
       "      <td>5.0</td>\n",
       "    </tr>\n",
       "  </tbody>\n",
       "</table>\n",
       "<p>420 rows × 11 columns</p>\n",
       "</div>"
      ],
      "text/plain": [
       "              team team_continent  team_fifa_rank  team_total_fifa_points  \\\n",
       "date                                                                        \n",
       "1993-08-08  Brazil  South America               8                       0   \n",
       "1993-08-15  Brazil  South America               8                       0   \n",
       "1993-08-22  Brazil  South America               8                       0   \n",
       "1993-08-29  Brazil  South America               8                       0   \n",
       "1993-09-05  Brazil  South America               8                       0   \n",
       "...            ...            ...             ...                     ...   \n",
       "2022-02-01  Brazil  South America               2                    1826   \n",
       "2022-03-24  Brazil  South America               2                    1823   \n",
       "2022-03-29  Brazil  South America               2                    1823   \n",
       "2022-06-02  Brazil  South America               1                    1832   \n",
       "2022-06-06  Brazil  South America               1                    1832   \n",
       "\n",
       "            team_score  team_goalkeeper_score  team_mean_defense_score  \\\n",
       "date                                                                     \n",
       "1993-08-08           1                    NaN                      NaN   \n",
       "1993-08-15           1                    NaN                      NaN   \n",
       "1993-08-22           2                    NaN                      NaN   \n",
       "1993-08-29           6                    NaN                      NaN   \n",
       "1993-09-05           4                    NaN                      NaN   \n",
       "...                ...                    ...                      ...   \n",
       "2022-02-01           4                   89.0                     84.8   \n",
       "2022-03-24           4                   89.0                     84.8   \n",
       "2022-03-29           4                   89.0                     84.8   \n",
       "2022-06-02           5                   89.0                     84.8   \n",
       "2022-06-06           1                   89.0                     84.8   \n",
       "\n",
       "            team_mean_offense_score  team_mean_midfield_score  team_result  \\\n",
       "date                                                                         \n",
       "1993-08-08                      NaN                       NaN            0   \n",
       "1993-08-15                      NaN                       NaN            0   \n",
       "1993-08-22                      NaN                       NaN            1   \n",
       "1993-08-29                      NaN                       NaN            1   \n",
       "1993-09-05                      NaN                       NaN            1   \n",
       "...                             ...                       ...          ...   \n",
       "2022-02-01                     86.3                      85.5            1   \n",
       "2022-03-24                     86.3                      85.5            1   \n",
       "2022-03-29                     86.3                      85.5            1   \n",
       "2022-06-02                     86.3                      85.5            1   \n",
       "2022-06-06                     86.3                      85.5            1   \n",
       "\n",
       "            team_results_mm7  \n",
       "date                          \n",
       "1993-08-08               0.0  \n",
       "1993-08-15               0.0  \n",
       "1993-08-22               1.0  \n",
       "1993-08-29               2.0  \n",
       "1993-09-05               3.0  \n",
       "...                      ...  \n",
       "2022-02-01               4.0  \n",
       "2022-03-24               4.0  \n",
       "2022-03-29               5.0  \n",
       "2022-06-02               5.0  \n",
       "2022-06-06               5.0  \n",
       "\n",
       "[420 rows x 11 columns]"
      ]
     },
     "execution_count": 130,
     "metadata": {},
     "output_type": "execute_result"
    }
   ],
   "source": [
    "df_norm_features[df_norm_features.team == 'Brazil']"
   ]
  },
  {
   "cell_type": "code",
   "execution_count": 131,
   "id": "02303f5b",
   "metadata": {},
   "outputs": [
    {
     "data": {
      "text/plain": [
       "(230, 27)"
      ]
     },
     "execution_count": 131,
     "metadata": {},
     "output_type": "execute_result"
    }
   ],
   "source": [
    "X[X.home_team == 'Brazil'].shape"
   ]
  },
  {
   "cell_type": "code",
   "execution_count": 94,
   "id": "30e7a06a",
   "metadata": {},
   "outputs": [
    {
     "data": {
      "text/plain": [
       "date\n",
       "1993-08-08    NaN\n",
       "1993-08-22    NaN\n",
       "1993-08-29    NaN\n",
       "1993-09-05    NaN\n",
       "1993-09-19    NaN\n",
       "             ... \n",
       "2021-09-09    4.0\n",
       "2021-10-14    4.0\n",
       "2021-11-11    4.0\n",
       "2022-02-01    5.0\n",
       "2022-03-24    5.0\n",
       "Name: victories, Length: 230, dtype: float64"
      ]
     },
     "execution_count": 94,
     "metadata": {},
     "output_type": "execute_result"
    }
   ],
   "source": [
    "(\n",
    "    X[X.home_team == 'Brazil']\n",
    "#     .groupby('home_team', sort=False)\n",
    "    ['home_team_result']\n",
    "    .rolling(7)\n",
    "    .sum()\n",
    "    .rename('victories')\n",
    "#     .shape\n",
    ")"
   ]
  },
  {
   "cell_type": "code",
   "execution_count": 40,
   "id": "5002c8ab",
   "metadata": {},
   "outputs": [
    {
     "data": {
      "text/plain": [
       "(8799,)"
      ]
     },
     "execution_count": 40,
     "metadata": {},
     "output_type": "execute_result"
    }
   ],
   "source": [
    "X.groupby('home_team', sort=False)['home_team_result'].rolling(7).sum().shape"
   ]
  },
  {
   "cell_type": "code",
   "execution_count": 26,
   "id": "68beb384",
   "metadata": {},
   "outputs": [
    {
     "data": {
      "text/plain": [
       "home_team       date      \n",
       "Bolivia         1993-08-08   NaN\n",
       "                1993-08-15   NaN\n",
       "                1994-05-04   NaN\n",
       "                1994-05-11   NaN\n",
       "                1994-06-11   NaN\n",
       "                              ..\n",
       "Gibraltar       2021-03-30   NaN\n",
       "Curaçao         2017-07-16   NaN\n",
       "Chinese Taipei  2019-10-15   NaN\n",
       "Cayman Islands  2021-03-29   NaN\n",
       "Aruba           2021-06-05   NaN\n",
       "Name: home_team_result, Length: 8799, dtype: float64"
      ]
     },
     "execution_count": 26,
     "metadata": {},
     "output_type": "execute_result"
    }
   ],
   "source": [
    "X.groupby('home_team', sort=False)['home_team_result'].rolling(7).sum()"
   ]
  },
  {
   "cell_type": "code",
   "execution_count": 41,
   "id": "8d4a922e",
   "metadata": {},
   "outputs": [
    {
     "data": {
      "text/plain": [
       "(8799, 27)"
      ]
     },
     "execution_count": 41,
     "metadata": {},
     "output_type": "execute_result"
    }
   ],
   "source": [
    "X.shape"
   ]
  },
  {
   "cell_type": "markdown",
   "id": "1724466b",
   "metadata": {},
   "source": [
    "## Brief EDA"
   ]
  },
  {
   "cell_type": "code",
   "execution_count": null,
   "id": "531ea2f5",
   "metadata": {},
   "outputs": [],
   "source": [
    "X['2000':].home_team_total_fifa_points.hist()"
   ]
  },
  {
   "cell_type": "code",
   "execution_count": null,
   "id": "64885a2f",
   "metadata": {},
   "outputs": [],
   "source": [
    "X[X.home2away_fifa_point_pdiff.isnull()][:'2011'][['home_team','away_team','home_team_total_fifa_points', 'away_team_total_fifa_points']]"
   ]
  },
  {
   "cell_type": "code",
   "execution_count": null,
   "id": "da00987c",
   "metadata": {},
   "outputs": [],
   "source": [
    "(\n",
    "    X\n",
    "    .assign(is_zero_home = X.home_team_total_fifa_points == 0)\n",
    "    .assign(is_zero_away = X.away_team_total_fifa_points == 0)\n",
    "    [X.home2away_fifa_point_pdiff.isnull()].groupby(['year', 'is_zero_home', 'is_zero_away'])\n",
    "    ['home_team']\n",
    "    .count()\n",
    ")"
   ]
  },
  {
   "cell_type": "code",
   "execution_count": null,
   "id": "e724626b",
   "metadata": {},
   "outputs": [],
   "source": [
    "X['home_team_result'].hist()"
   ]
  },
  {
   "cell_type": "code",
   "execution_count": null,
   "id": "5084a986",
   "metadata": {},
   "outputs": [],
   "source": [
    "def plot_timeline(X, cutoff_time='2018-01-01'):\n",
    "    _d = (pd.to_datetime(cutoff_time) + datetime.timedelta(days=365)).strftime('%Y-%m-%d')\n",
    "    train = X[:_d]\n",
    "    test = X[cutoff_time:]\n",
    "    f, ax = plt.subplots()\n",
    "    sns.lineplot(data=train, x='year', y='home_team_result', label='Train', ax=ax)\n",
    "    sns.lineplot(data=test, x='year', y='home_team_result', label='Test', ax=ax)\n",
    "    ax.set_ylabel(\"Matches\")\n",
    "    ax.set_title(\"Avg Home Team Result per year\")\n",
    "    \n",
    "    return train, test\n",
    "    \n",
    "x1, x2 = plot_timeline(X)"
   ]
  },
  {
   "cell_type": "code",
   "execution_count": null,
   "id": "bd2da9ce",
   "metadata": {},
   "outputs": [],
   "source": [
    "X.groupby('year')['home_team_result'].count().plot()\n",
    "plt.title(\"Matches per year\")"
   ]
  },
  {
   "cell_type": "code",
   "execution_count": null,
   "id": "5a65f010",
   "metadata": {},
   "outputs": [],
   "source": [
    "X[X.home_team_score < 10]['home_team_score'].hist(bins=50)"
   ]
  },
  {
   "cell_type": "code",
   "execution_count": null,
   "id": "8846d719",
   "metadata": {},
   "outputs": [],
   "source": [
    "X.year.unique()"
   ]
  },
  {
   "cell_type": "code",
   "execution_count": null,
   "id": "96974e1f",
   "metadata": {},
   "outputs": [],
   "source": [
    "# jogos na pandemia\n",
    "X[X.year == 2020].tournament.unique()"
   ]
  },
  {
   "cell_type": "code",
   "execution_count": null,
   "id": "8dbb7530",
   "metadata": {},
   "outputs": [],
   "source": [
    "f, ax = plt.subplots() \n",
    "\n",
    "sns.histplot(data=X['home_team_score'],label='home',ax=ax)\n",
    "sns.histplot(data=X['away_team_score'],label='away',ax=ax);\n",
    "\n",
    "# ax.legend(['home', 'away'])\n",
    "ax.legend()"
   ]
  },
  {
   "cell_type": "code",
   "execution_count": null,
   "id": "32b2f9ba",
   "metadata": {},
   "outputs": [],
   "source": [
    "X['home_team_score'].mean(), X['away_team_score'].mean()"
   ]
  },
  {
   "cell_type": "markdown",
   "id": "8b092ab4",
   "metadata": {},
   "source": [
    "## Split Data\n",
    "\n"
   ]
  },
  {
   "cell_type": "code",
   "execution_count": null,
   "id": "eaae1cc4",
   "metadata": {},
   "outputs": [],
   "source": [
    "def split_dataset(\n",
    "    df,\n",
    "    cutoff_time='2018-05-14',\n",
    "    min_date=None,\n",
    "    features_cols=features_cols,\n",
    "    target=target_col,\n",
    "):\n",
    "    \n",
    "    df = df.copy()\n",
    "    if min_date:\n",
    "        df = df[min_date:]\n",
    "    \n",
    "    t0 = (pd.to_datetime(cutoff_time) - datetime.timedelta(days=1)).strftime('%Y-%m-%d')\n",
    "    df_train = df[:t0]\n",
    "    df_test = df[cutoff_time:]\n",
    "    \n",
    "    X_train, y_train = df_train[features_cols], df_train[target].to_numpy().ravel()\n",
    "    X_test, y_test = df_test[features_cols], df_test[target].to_numpy().ravel()\n",
    "    \n",
    "    assert set(X_train.index).isdisjoint(X_test.index)\n",
    "    \n",
    "    return X_train, y_train, X_test, y_test\n",
    "\n",
    "X_train, y_train, X_test, y_test = split_dataset(X, min_date='2005-01-01')"
   ]
  },
  {
   "cell_type": "code",
   "execution_count": null,
   "id": "10621890",
   "metadata": {},
   "outputs": [],
   "source": [
    "X_train.shape"
   ]
  },
  {
   "cell_type": "code",
   "execution_count": null,
   "id": "f6de698a",
   "metadata": {},
   "outputs": [],
   "source": [
    "X_test.shape"
   ]
  },
  {
   "cell_type": "code",
   "execution_count": null,
   "id": "96ff5c6a",
   "metadata": {},
   "outputs": [],
   "source": [
    "X_test.shape[0] / X.shape[0]"
   ]
  },
  {
   "cell_type": "code",
   "execution_count": null,
   "id": "cca7596d",
   "metadata": {},
   "outputs": [],
   "source": [
    "X_train.head()"
   ]
  },
  {
   "cell_type": "code",
   "execution_count": null,
   "id": "b37ffe26",
   "metadata": {},
   "outputs": [],
   "source": []
  },
  {
   "cell_type": "markdown",
   "id": "9a684b83",
   "metadata": {},
   "source": [
    "### LGBM"
   ]
  },
  {
   "cell_type": "code",
   "execution_count": null,
   "id": "b7b6ae28",
   "metadata": {},
   "outputs": [],
   "source": [
    "cat_features = ['home_team', 'away_team', 'tournament', 'neutral_location']\n",
    "\n",
    "def make_categories(df, cat_features=cat_features):\n",
    "    for c in cat_features:\n",
    "        df[c] = df[c].astype('category')\n",
    "    return df\n",
    "\n",
    "X_train_lgbm = make_categories(X_train)\n",
    "X_test_lgbm = make_categories(X_test)"
   ]
  },
  {
   "cell_type": "code",
   "execution_count": null,
   "id": "0a6b9b9a",
   "metadata": {},
   "outputs": [],
   "source": [
    "model_lgbm = lgbm.LGBMClassifier()\n",
    "model_lgbm.fit(X_train_lgbm, y_train, categorical_feature=cat_features)"
   ]
  },
  {
   "cell_type": "code",
   "execution_count": null,
   "id": "d3eef6da",
   "metadata": {},
   "outputs": [],
   "source": [
    "y_train_pred = model_lgbm.predict(X_train_lgbm)\n",
    "y_test_pred = model_lgbm.predict(X_test_lgbm)"
   ]
  },
  {
   "cell_type": "code",
   "execution_count": null,
   "id": "e7b33827",
   "metadata": {},
   "outputs": [],
   "source": [
    "print(classification_report(y_true=y_train, y_pred=y_train_pred))"
   ]
  },
  {
   "cell_type": "code",
   "execution_count": null,
   "id": "cd4dd522",
   "metadata": {},
   "outputs": [],
   "source": [
    "print(classification_report(y_true=y_test, y_pred=y_test_pred))"
   ]
  },
  {
   "cell_type": "code",
   "execution_count": null,
   "id": "fc699689",
   "metadata": {},
   "outputs": [],
   "source": [
    "lgbm.plot_importance(model_lgbm)"
   ]
  },
  {
   "cell_type": "code",
   "execution_count": null,
   "id": "993118d9",
   "metadata": {},
   "outputs": [],
   "source": [
    "plt.style.use('classic')\n",
    "plot_confusion_matrix(model_lgbm, X_test_lgbm, y_test)\n",
    "plt.style.use(\"fivethirtyeight\")"
   ]
  },
  {
   "cell_type": "code",
   "execution_count": null,
   "id": "fcefb53b",
   "metadata": {},
   "outputs": [],
   "source": [
    "import time\n",
    "\n",
    "ts = datetime.datetime.utcfromtimestamp(time.time()).strftime('%Y_%m_%d_%H_%M')\n",
    "ts"
   ]
  },
  {
   "cell_type": "code",
   "execution_count": null,
   "id": "741d4680",
   "metadata": {},
   "outputs": [],
   "source": [
    "# save model\n",
    "\n",
    "joblib.dump(model_lgbm, f'lgbm_model_{ts}.pkl')\n",
    "# load model\n",
    "# gbm_pickle = joblib.load('lgbm_model.pkl')"
   ]
  },
  {
   "cell_type": "code",
   "execution_count": null,
   "id": "fe8e5d75",
   "metadata": {},
   "outputs": [],
   "source": [
    "!ls"
   ]
  },
  {
   "cell_type": "markdown",
   "id": "2bb1fdeb",
   "metadata": {},
   "source": [
    "## Prepare prediction dataset\n",
    "\n",
    "Para preparar o dataset de predição, precisamos coletar as informações mais recentes de cada time para as próximas partidas reais, o que independe se estavam na coluna 'home' ou 'away'."
   ]
  },
  {
   "cell_type": "code",
   "execution_count": null,
   "id": "8d6e741e",
   "metadata": {},
   "outputs": [],
   "source": [
    "feature_metrics = [\n",
    "    c for c in X.columns if re.search(r'(home|away)*?(score|points|rank)', c) \n",
    "    and not re.search(r'(home|away)_team_score', c)\n",
    "]\n",
    "feature_metrics"
   ]
  },
  {
   "cell_type": "code",
   "execution_count": null,
   "id": "dda0e379",
   "metadata": {},
   "outputs": [],
   "source": [
    "def get_recent_feature_one_player(df, player, team_side):\n",
    "    features = [f'{team_side}_team'] + [c for c in feature_metrics if team_side in c]\n",
    "    print(features)\n",
    "    _df = (\n",
    "        df\n",
    "        [(df[f'{team_side}_team'] == player)]\n",
    "        [features]\n",
    "        .fillna(method='ffill')\n",
    "        .sort_index()\n",
    "        .tail(1)\n",
    "        .rename(columns={c: re.sub(f'{team_side}_', '', c) for c in features})\n",
    "    )\n",
    "    return _df\n",
    "\n",
    "def get_recent_features(df, players2022=players2022):\n",
    "    global feature_metrics\n",
    "    \n",
    "    df = df.copy().sort_index()\n",
    "    i = 0\n",
    "    for player in players2022:\n",
    "        # get most recent data for player home or away\n",
    "        df_home = get_recent_feature_one_player(df, player, 'home')\n",
    "        df_away = get_recent_feature_one_player(df, player, 'away')\n",
    "        _df = pd.concat([df_home, df_away], axis=0).sort_index().tail(1)\n",
    "            \n",
    "        if _df.empty:\n",
    "            raise ValueError(f\"i={i}: Data for team '{player}' is empty.\")\n",
    "        if i == 0:\n",
    "            df_recent = _df\n",
    "        else:\n",
    "            df_recent = pd.concat([df_recent, _df], axis=0)\n",
    "        i += 1\n",
    "\n",
    "    df_recent = (\n",
    "        df_recent\n",
    "        .sort_index()\n",
    "        .drop_duplicates(subset=['team'], keep='last')\n",
    "    )\n",
    "    \n",
    "    return df_recent"
   ]
  },
  {
   "cell_type": "code",
   "execution_count": null,
   "id": "0267981b",
   "metadata": {},
   "outputs": [],
   "source": [
    "df_recent = get_recent_features(X)\n",
    "df_recent.head()"
   ]
  },
  {
   "cell_type": "code",
   "execution_count": null,
   "id": "b9ceb116",
   "metadata": {},
   "outputs": [],
   "source": [
    "df_recent[df_recent.duplicated(subset=['team'])]"
   ]
  },
  {
   "cell_type": "code",
   "execution_count": null,
   "id": "7244add4",
   "metadata": {},
   "outputs": [],
   "source": [
    "df_recent.isnull().sum()"
   ]
  },
  {
   "cell_type": "code",
   "execution_count": null,
   "id": "6d7b7bb2",
   "metadata": {},
   "outputs": [],
   "source": [
    "df_recent[df_recent.team_goalkeeper_score.isnull()]"
   ]
  },
  {
   "cell_type": "code",
   "execution_count": null,
   "id": "f2eb8944",
   "metadata": {},
   "outputs": [],
   "source": [
    "get_recent_feature_one_player(X, 'Qatar', 'home')"
   ]
  },
  {
   "cell_type": "code",
   "execution_count": null,
   "id": "a5ddc455",
   "metadata": {},
   "outputs": [],
   "source": [
    "team = 'Qatar'\n",
    "# X['2005':].query(f\"home_team == '{team}' or away_team == '{team}'\")\n",
    "X['2005':].query(f\"home_team == '{team}'\")[[c for c in feature_metrics if 'home' in c]]"
   ]
  },
  {
   "cell_type": "code",
   "execution_count": null,
   "id": "d6c034bb",
   "metadata": {},
   "outputs": [],
   "source": [
    "set(players2022).issubset( set(df_recent.team))"
   ]
  },
  {
   "cell_type": "code",
   "execution_count": null,
   "id": "36412798",
   "metadata": {},
   "outputs": [],
   "source": [
    "df_recent.index"
   ]
  },
  {
   "cell_type": "code",
   "execution_count": null,
   "id": "f09be5b3",
   "metadata": {},
   "outputs": [],
   "source": [
    "def get_quatar_matches():\n",
    "    df = (\n",
    "        pd.read_csv(\"../../datasets/international_football_results/results.csv\")\n",
    "        .pipe(get_intermediate)\n",
    "        .assign(date = pd.to_datetime(_df.date))\n",
    "        .pipe(get_intermediate)\n",
    "        .assign(year = _df.date.dt.year)\n",
    "        .pipe(get_intermediate)\n",
    "        [\n",
    "            (_df.home_score.isnull()) # NaN values for matches are for this 48 games 2022 year\n",
    "            & (_df.tournament == 'FIFA World Cup')\n",
    "            & (_df.year == 2022)\n",
    "        ]\n",
    "        .drop(columns=['home_score', 'away_score'])\n",
    "        .rename(columns={'neutral': 'neutral_location'})\n",
    "        .set_index('date')\n",
    "    )\n",
    "    print(f\"Loaded {df.shape[0]} Matches for 2022 Cup.\")\n",
    "    return df\n",
    "    \n",
    "\n",
    "quatar_matches = get_quatar_matches()\n",
    "quatar_matches"
   ]
  },
  {
   "cell_type": "code",
   "execution_count": null,
   "id": "299c266c",
   "metadata": {},
   "outputs": [],
   "source": [
    "df_recent.head()"
   ]
  },
  {
   "cell_type": "code",
   "execution_count": null,
   "id": "c1200e96",
   "metadata": {},
   "outputs": [],
   "source": [
    "df_recent.columns"
   ]
  },
  {
   "cell_type": "code",
   "execution_count": null,
   "id": "65442b97",
   "metadata": {},
   "outputs": [],
   "source": [
    "def merge_features(df_prediction, df_recent, players):\n",
    "    \"\"\"\n",
    "    For each player, we get most recent features.\n",
    "    \"\"\"\n",
    "    df_final = df_prediction.sort_index().copy()\n",
    "    df_recent = df_recent.sort_index()\n",
    "    \n",
    "    # merge each case\n",
    "    df_final = pd.merge_asof(\n",
    "        left=df_final,\n",
    "        right=df_recent.rename(columns={c: f'home_{c}' for c in df_recent.columns}),\n",
    "        left_index=True,\n",
    "        right_index=True,\n",
    "        left_by='home_team',\n",
    "        right_by='home_team'\n",
    "    )\n",
    "    df_final = pd.merge_asof(\n",
    "        left=df_final,\n",
    "        right=df_recent.rename(columns={c: f'away_{c}' for c in df_recent.columns}),\n",
    "        left_index=True,\n",
    "        right_index=True,\n",
    "        left_by='away_team',\n",
    "        right_by='away_team'\n",
    "    )\n",
    "        \n",
    "    # Assert we got all games\n",
    "    assert df_prediction.shape[0] == df_final.shape[0]\n",
    "        \n",
    "    return df_final"
   ]
  },
  {
   "cell_type": "code",
   "execution_count": null,
   "id": "d4b7ddf8",
   "metadata": {},
   "outputs": [],
   "source": [
    "df_prediction = merge_features(quatar_matches, df_recent, players2022)\n",
    "df_prediction"
   ]
  },
  {
   "cell_type": "code",
   "execution_count": null,
   "id": "04bd293f",
   "metadata": {},
   "outputs": [],
   "source": [
    "df_prediction.to_csv('../../datasets/predictions/quatar2022_features.csv')"
   ]
  },
  {
   "cell_type": "markdown",
   "id": "1610d64e",
   "metadata": {},
   "source": [
    "## Simular a Copa 2022\n",
    "\n",
    "Agora, vamos simular os resultados da copa 2022 usando o modelo. Para isso, vamos criar uma classe que receberá como entrada o dataframe com as features mais recentes dos times da copa, um modelo treinado, e a informação das chaves dos grupos. \n",
    "\n",
    "Antes de prever os gols dos times com técnicas mais complexas, vamos assumir que, quando for previsto empate, vence quem tem mais rating da FIFA. Depois, vamos montar simulações usando a previsão dos gols com distribuição de Poisson."
   ]
  },
  {
   "cell_type": "code",
   "execution_count": null,
   "id": "f8b6b733",
   "metadata": {},
   "outputs": [],
   "source": [
    "\n",
    "# min_date='2005-01-01'"
   ]
  },
  {
   "cell_type": "code",
   "execution_count": null,
   "id": "ded0544c",
   "metadata": {},
   "outputs": [],
   "source": [
    "X_train_lgbm.info()"
   ]
  },
  {
   "cell_type": "code",
   "execution_count": null,
   "id": "fdce66b1",
   "metadata": {},
   "outputs": [],
   "source": [
    "np.concatenate((y_train, y_test))"
   ]
  },
  {
   "cell_type": "code",
   "execution_count": null,
   "id": "4ce65696",
   "metadata": {},
   "outputs": [],
   "source": [
    "X_train_full = make_categories( pd.concat([X_train_lgbm, X_test_lgbm]))\n",
    "y_train_full = np.concatenate((y_train, y_test))\n",
    "\n",
    "prediction_model = lgbm.LGBMClassifier()\n",
    "prediction_model.fit(\n",
    "    X_train_full, \n",
    "    y_train_full, \n",
    "    categorical_feature=cat_features\n",
    ")"
   ]
  },
  {
   "cell_type": "code",
   "execution_count": null,
   "id": "8c0d5037",
   "metadata": {},
   "outputs": [],
   "source": [
    "# save prediction model\n",
    "ts = datetime.datetime.utcfromtimestamp(time.time()).strftime('%Y_%m_%d_%H_%M')\n",
    "joblib.dump(prediction_model, f'predictions/lgbm_model_prediction_{ts}.pkl')"
   ]
  },
  {
   "cell_type": "code",
   "execution_count": null,
   "id": "45cd1da6",
   "metadata": {},
   "outputs": [],
   "source": [
    "class GroupMatchesSimulator():\n",
    "    \"\"\"\n",
    "    Classe para simular as partidas da Copa de 2022.\n",
    "    \"\"\"\n",
    "    def __init__(self, df, model, features, target_name='home_team_result'):\n",
    "        self.df = df\n",
    "        self.model = model\n",
    "        self.features = features\n",
    "        self.target_name = target_name\n",
    "        \n",
    "    def run_simulation(self):\n",
    "        _X_pred = make_categories(self.df[self.features]) # lgbm needs 'objects' string to be 'category'\n",
    "        y_pred = self.model.predict(_X_pred)\n",
    "        self.df[self.target_name] = y_pred"
   ]
  },
  {
   "cell_type": "code",
   "execution_count": null,
   "id": "2ef34775",
   "metadata": {},
   "outputs": [],
   "source": [
    "simulator = GroupMatchesSimulator(df_prediction, prediction_model, features=X_train_full.columns)"
   ]
  },
  {
   "cell_type": "code",
   "execution_count": null,
   "id": "b56392fc",
   "metadata": {},
   "outputs": [],
   "source": [
    "simulator.run_simulation()"
   ]
  },
  {
   "cell_type": "code",
   "execution_count": null,
   "id": "c6df141a",
   "metadata": {},
   "outputs": [],
   "source": [
    "simulator.df"
   ]
  },
  {
   "cell_type": "markdown",
   "id": "c4131501",
   "metadata": {},
   "source": [
    "## Simular o número de gols na Copa 2022"
   ]
  },
  {
   "cell_type": "code",
   "execution_count": null,
   "id": "46aa9772",
   "metadata": {},
   "outputs": [],
   "source": [
    "from empiricaldist import Pmf\n",
    "from scipy.stats import poisson\n",
    "\n",
    "def make_poisson_pmf(lam, qs):\n",
    "    \"\"\"Make a Pmf of a Poisson distribution.\"\"\"\n",
    "    ps = poisson(lam).pmf(qs)\n",
    "    pmf = Pmf(ps, qs)\n",
    "    pmf.normalize()\n",
    "    return pmf"
   ]
  },
  {
   "cell_type": "code",
   "execution_count": null,
   "id": "61839d41",
   "metadata": {},
   "outputs": [],
   "source": [
    "import numpy as np\n",
    "\n",
    "lam = 1.4\n",
    "goals = np.arange(10)\n",
    "pmf_goals = make_poisson_pmf(lam, goals)\n",
    "\n",
    "pmf_goals.bar(label=r'Poisson distribution with $\\lambda=1.4$')"
   ]
  },
  {
   "cell_type": "code",
   "execution_count": null,
   "id": "8e5a9389",
   "metadata": {},
   "outputs": [],
   "source": [
    "X['home_team_score'].head().to_list()"
   ]
  },
  {
   "cell_type": "code",
   "execution_count": null,
   "id": "7597d287",
   "metadata": {},
   "outputs": [],
   "source": [
    "def estimate_goals(X, teams):\n",
    "    \"\"\"\n",
    "    Gera uma distribuição de Poisson para cada time.\n",
    "    \"\"\"\n",
    "    dists = {}\n",
    "    for team in teams:\n",
    "        goals_home = X[(X.home_team == team)]['home_team_score'].to_list()\n",
    "        goals_away = X[(X.away_team == team)]['away_team_score'].to_list()\n",
    "        goals = np.array(goals_home + goals_away)\n",
    "        lam = goals.mean()\n",
    "        print(f\"Team {team} lambda={lam}\")\n",
    "        \n",
    "        goals_range = np.arange(10)\n",
    "        pmf_goals = make_poisson_pmf(lam, goals_range)\n",
    "        dists[team] = (lam, pmf_goals)\n",
    "    \n",
    "    return dists\n",
    "\n",
    "def plot_poisson_dist(dists, team):\n",
    "    lam, pmf_goals = dists[team]\n",
    "    pmf_goals.bar()\n",
    "    plt.title(f\"Poisson distribution for team '{team}' and $\\lambda={round(lam,2)}$\")\n",
    "    \n",
    "def predict_goals(dists, team):\n",
    "    lam, pmf_goals = dists[team]\n",
    "    return np.argmax(pmf_goals)"
   ]
  },
  {
   "cell_type": "code",
   "execution_count": null,
   "id": "9a0ed5e6",
   "metadata": {},
   "outputs": [],
   "source": [
    "possion_dists = estimate_goals(X['2005-01-01':], players2022)"
   ]
  },
  {
   "cell_type": "code",
   "execution_count": null,
   "id": "6bbdc1ee",
   "metadata": {},
   "outputs": [],
   "source": [
    "plot_poisson_dist(possion_dists, 'Iran')"
   ]
  },
  {
   "cell_type": "code",
   "execution_count": null,
   "id": "7d43e291",
   "metadata": {},
   "outputs": [],
   "source": [
    "plot_poisson_dist(possion_dists, 'England')"
   ]
  },
  {
   "cell_type": "code",
   "execution_count": null,
   "id": "3d3275c6",
   "metadata": {},
   "outputs": [],
   "source": [
    "# likely goals \n",
    "print(predict_goals(possion_dists, 'Brazil'))\n",
    "print(predict_goals(possion_dists, 'England'))\n",
    "print(predict_goals(possion_dists, 'Senegal'))"
   ]
  },
  {
   "cell_type": "markdown",
   "id": "0dc313d2",
   "metadata": {},
   "source": [
    "### Adicionar número de gols nas previsões"
   ]
  },
  {
   "cell_type": "code",
   "execution_count": null,
   "id": "ad93683d",
   "metadata": {},
   "outputs": [],
   "source": [
    "def print_placar_final():\n",
    "    pass"
   ]
  },
  {
   "cell_type": "code",
   "execution_count": null,
   "id": "4d08e605",
   "metadata": {},
   "outputs": [],
   "source": [
    "df_prediction[['home_team', 'away_team', 'home_team_result']]"
   ]
  },
  {
   "cell_type": "code",
   "execution_count": null,
   "id": "1c379234",
   "metadata": {},
   "outputs": [],
   "source": [
    "def add_goals_to_predictions(df, poisson_dists):\n",
    "    df_goals = df_prediction[['home_team', 'away_team', 'home_team_result']]\n",
    "    \n",
    "    df_goals['home_score'] = df_goals['home_team'].apply(lambda x: predict_goals(possion_dists, x))\n",
    "    df_goals['away_score'] = df_goals['away_team'].apply(lambda x: predict_goals(possion_dists, x))\n",
    "    df_goals['home_results_by_goals'] = np.sign((df_goals['home_score'] - df_goals['away_score']))\n",
    "    df_goals['are_both_preds_equal'] = df_goals['home_results_by_goals'] == df_goals['home_team_result']\n",
    "    \n",
    "    return df_goals"
   ]
  },
  {
   "cell_type": "code",
   "execution_count": null,
   "id": "f209687e",
   "metadata": {},
   "outputs": [],
   "source": []
  },
  {
   "cell_type": "code",
   "execution_count": null,
   "id": "8426d9a8",
   "metadata": {},
   "outputs": [],
   "source": [
    "df_prediction_with_goals = add_goals_to_predictions(df_prediction, possion_dists)\n",
    "\n",
    "df_prediction_with_goals"
   ]
  },
  {
   "cell_type": "code",
   "execution_count": null,
   "id": "ff46405a",
   "metadata": {},
   "outputs": [],
   "source": [
    "df_prediction_with_goals[~df_prediction_with_goals.are_both_preds_equal]"
   ]
  },
  {
   "cell_type": "markdown",
   "id": "796b82f9",
   "metadata": {},
   "source": [
    "## Preparar submissão"
   ]
  },
  {
   "cell_type": "code",
   "execution_count": null,
   "id": "e2977bc6",
   "metadata": {},
   "outputs": [],
   "source": [
    "!head -n 10 ../../../sigmageek/submission.csv"
   ]
  },
  {
   "cell_type": "code",
   "execution_count": null,
   "id": "d83dd191",
   "metadata": {},
   "outputs": [],
   "source": [
    "!head -n 10 ../../../sigmageek/results.csv"
   ]
  },
  {
   "cell_type": "code",
   "execution_count": null,
   "id": "adc26650",
   "metadata": {},
   "outputs": [],
   "source": [
    "with open('../../../sigmageek/results.csv', 'r') as f:\n",
    "    lines = f.readlines()\n",
    "\n",
    "games_order = []\n",
    "for line in lines:\n",
    "    team1 = re.findall('[\\w]+', line)[0]\n",
    "    team2 = re.findall('[\\w]+', line)[2]\n",
    "    games_order.append((team1, team2))\n",
    "    \n",
    "games_order[:10]"
   ]
  },
  {
   "cell_type": "code",
   "execution_count": null,
   "id": "53d1fa78",
   "metadata": {},
   "outputs": [],
   "source": [
    "games_order"
   ]
  },
  {
   "cell_type": "code",
   "execution_count": null,
   "id": "001a58a8",
   "metadata": {},
   "outputs": [],
   "source": [
    "def merge_names2(df):\n",
    "    mapper = {\n",
    "        'IR Iran': 'Iran',\n",
    "        'USA': 'United States',\n",
    "        'Korea Republic': 'South Korea'\n",
    "    }\n",
    "    df['Team'] = df['Team'].apply(lambda x: mapper.get(x, x))\n",
    "    return df\n",
    "\n",
    "mapper_siglas = (\n",
    "    pd.read_csv('../../datasets/fifa_ranking_before_wc_preprocessed.csv')\n",
    "    .pipe(merge_names2)\n",
    "    [['code', 'Team']]\n",
    "    .set_index('Team')\n",
    "    .to_dict()\n",
    "    ['code']\n",
    ")\n",
    "\n",
    "def make_final_score(row, treat_special_case=True):\n",
    "    # tratar caso especial de chave (QAT, NED), 2022-11-29, que deveria ser (NED, QAT)\n",
    "    if treat_special_case and row.home_code == 'QAT' and row.away_code == 'NED':\n",
    "        print(\"Treating special case.\")\n",
    "        v = row.home_score\n",
    "        row.home_score = row.away_score\n",
    "        row.away_score = v\n",
    "        # row.are_both_preds_equal does not change\n",
    "        # home_team_result inverse\n",
    "        row.home_team_result = - row.home_team_result\n",
    "        row.home_results_by_goals = - row.home_results_by_goals\n",
    "        \n",
    "    # if 'are_both_preds_equal' is True, we just return the gols predicted\n",
    "    if row.are_both_preds_equal:\n",
    "        h = int(row.home_score)\n",
    "        a = int(row.away_score)\n",
    "        return str(h) + 'x' + str(a)\n",
    "    else:\n",
    "        # in this case, we keep the LGBM prediction and have two cases:\n",
    "        # lgbm model said draw, goals not. We can keep the smallest goal predicted\n",
    "        # lgbm model said some winner, goals said draw or inverse result. Here, we increase\n",
    "        # one by one goal from model's winner to achieve the model's prediction\n",
    "        \n",
    "        # lgbm says draw\n",
    "        if row.home_team_result == 0:\n",
    "            smallest = int(min(row.home_score, row.away_score))\n",
    "            return str(smallest) + 'x' + str(smallest)\n",
    "        # lgbm said some winner\n",
    "        else:\n",
    "            # goals said draw\n",
    "            if row.home_results_by_goals == 0:\n",
    "                # give one more goal to lgbm's winner or remove 1 from loser if possible\n",
    "                # and random\n",
    "                if np.random.random() <= 0.5:\n",
    "                    # winner takes\n",
    "                    if row.home_team_result == 1:\n",
    "                        h = int(row.home_score + 1)\n",
    "                        a = int(row.away_score)\n",
    "                    else:\n",
    "                        h = int(row.home_score)\n",
    "                        a = int(row.away_score + 1)\n",
    "                    return str(h) + 'x' + str(a)\n",
    "                else:\n",
    "                    # loser gets one less goal\n",
    "                    if row.home_team_result == 1:\n",
    "                        h = int(row.home_score)\n",
    "                        a = int(row.away_score - 1)\n",
    "                    else:\n",
    "                        h = int(row.home_score - 1)\n",
    "                        a = int(row.away_score)\n",
    "                    return str(h) + 'x' + str(a)\n",
    "                    \n",
    "            else:\n",
    "                # goals said some winner different from lgbm\n",
    "                raise ValueError(\"Caso não tratato.\")\n",
    "            \n",
    "\n",
    "def prepare_submission(df, treat_special_case=True):\n",
    "\n",
    "    df_submission = df.copy()\n",
    "\n",
    "    df_submission['home_code'] = df_submission.home_team.apply(lambda x: mapper_siglas[x])\n",
    "    df_submission['away_code'] = df_submission.away_team.apply(lambda x: mapper_siglas[x])\n",
    "    df_submission['key'] = df_submission.apply(\n",
    "        lambda row: \n",
    "        (row.home_code, row.away_code) \n",
    "        if (row.home_code, row.away_code) != ('QAT', 'NED')\n",
    "        else ('NED', 'QAT')\n",
    "        , axis=1)\n",
    "    df_submission = (\n",
    "        df_submission\n",
    "        .reset_index()\n",
    "        .set_index('key')\n",
    "        .reindex(games_order)\n",
    "    )\n",
    "    \n",
    "    df_submission['final_score'] = df_submission.apply(lambda x: make_final_score(x, treat_special_case), axis=1)\n",
    "    \n",
    "    return df_submission"
   ]
  },
  {
   "cell_type": "code",
   "execution_count": null,
   "id": "41f5b889",
   "metadata": {},
   "outputs": [],
   "source": [
    "df_submission = prepare_submission(df_prediction_with_goals)\n",
    "\n",
    "df_submission"
   ]
  },
  {
   "cell_type": "code",
   "execution_count": null,
   "id": "25a0a1c9",
   "metadata": {
    "scrolled": true
   },
   "outputs": [],
   "source": [
    "df_submission.drop(columns=['home_code', 'away_code'])"
   ]
  },
  {
   "cell_type": "code",
   "execution_count": null,
   "id": "8f6f3045",
   "metadata": {},
   "outputs": [],
   "source": [
    "df_submission[['final_score']].to_csv(f\"predictions/submission.csv\", index=False, header=False)"
   ]
  },
  {
   "cell_type": "code",
   "execution_count": null,
   "id": "bfca7f5c",
   "metadata": {},
   "outputs": [],
   "source": [
    "df_submission.shape"
   ]
  },
  {
   "cell_type": "code",
   "execution_count": null,
   "id": "a5635547",
   "metadata": {},
   "outputs": [],
   "source": [
    "!pwd"
   ]
  },
  {
   "cell_type": "code",
   "execution_count": null,
   "id": "6c1b8f3a",
   "metadata": {},
   "outputs": [],
   "source": [
    "!ls predictions"
   ]
  },
  {
   "cell_type": "code",
   "execution_count": null,
   "id": "3ed176c0",
   "metadata": {},
   "outputs": [],
   "source": [
    "!head -n 20 predictions/submission.csv"
   ]
  },
  {
   "cell_type": "markdown",
   "id": "df0aa551",
   "metadata": {},
   "source": [
    "### Final Results Group Matches\n",
    "\n",
    "Vamos gerar os mesmos resultados, mas sem tratar um caso especial que só foi feito para a competição da sigmageek."
   ]
  },
  {
   "cell_type": "code",
   "execution_count": null,
   "id": "41819f92",
   "metadata": {},
   "outputs": [],
   "source": [
    "df_groupmatches_results = prepare_submission(df_prediction_with_goals, treat_special_case=False)\n",
    "\n",
    "df_groupmatches_results['home_final_score'] = df_groupmatches_results['final_score'].apply(lambda x: x.split('x')[0])\n",
    "df_groupmatches_results['away_final_score'] = df_groupmatches_results['final_score'].apply(lambda x: x.split('x')[1])\n",
    "\n",
    "df_groupmatches_results"
   ]
  },
  {
   "cell_type": "code",
   "execution_count": null,
   "id": "7c200963",
   "metadata": {},
   "outputs": [],
   "source": [
    "df_groupmatches_results[['date', 'home_team', 'away_team', 'home_team_result', 'home_score','away_score', 'home_results_by_goals', 'are_both_preds_equal', 'final_score']]"
   ]
  },
  {
   "cell_type": "code",
   "execution_count": null,
   "id": "38e33373",
   "metadata": {},
   "outputs": [],
   "source": [
    "df_groupmatches_results.to_csv(f\"predictions/submission_full_columns.csv\")"
   ]
  },
  {
   "cell_type": "code",
   "execution_count": null,
   "id": "e8f93226",
   "metadata": {},
   "outputs": [],
   "source": [
    "def get_groups(df):\n",
    "    keys = list(df.index)\n",
    "    groups = {\n",
    "        'A': ['QAT'],\n",
    "        'B': ['ENG'],\n",
    "        'C': ['ARG'],\n",
    "        'D': ['FRA'],\n",
    "        'E': ['ESP'],\n",
    "        'F': ['BEL'],\n",
    "        'G': ['BRA'],\n",
    "        'H': ['POR']\n",
    "    }\n",
    "    team2group = {v[0]: k for k,v in groups.items()}\n",
    "    for group, teams in groups.items():\n",
    "        team1 = teams[0]\n",
    "        for key in keys:\n",
    "            if key[0] == team1:\n",
    "                v = key[1]\n",
    "            elif key[1] == team1:\n",
    "                v = key[0]\n",
    "            else:\n",
    "                continue\n",
    "            if v not in groups[group]:\n",
    "                groups[group].append(v)\n",
    "                team2group[v] = group\n",
    "        \n",
    "    return groups, team2group\n",
    "\n",
    "            \n",
    "group2teams, teams2groups = get_groups(df_groupmatches_results)\n",
    "group2teams, teams2groups"
   ]
  },
  {
   "cell_type": "code",
   "execution_count": null,
   "id": "aca3a040",
   "metadata": {},
   "outputs": [],
   "source": [
    "def final_groupmatches_results(results, players2022, teams2groups, filter_winners=False):\n",
    "    \n",
    "    players_results = pd.DataFrame(data={'team': [], 'points': [], 'group': []})\n",
    "    for player in players2022:\n",
    "        acr = results[results.home_team == player].head(1)['home_code'].values[0] \n",
    "        points_home = (\n",
    "            (results[results.home_team == player].home_team_result > 0) * 3 \n",
    "            + (results[results.home_team == player].home_team_result == 0) * 1\n",
    "        ).sum()\n",
    "        points_away = (\n",
    "            (results[results.away_team == player].home_team_result < 0) * 3 \n",
    "            + (results[results.away_team == player].home_team_result == 0) * 1\n",
    "        ).sum()\n",
    "        points = points_home + points_away\n",
    "        df = pd.DataFrame(data={'team': [player], 'points': [points], 'group': teams2groups[acr]})\n",
    "        players_results = (\n",
    "            pd.concat([players_results, df], axis=0)\n",
    "            .sort_values(by=['group', 'points'], ascending=[True, False])\n",
    "        )\n",
    "    players_results['ranking'] = players_results.groupby(\"group\")['points'].rank(ascending=False).astype('int')\n",
    "    if filter_winners:\n",
    "        players_results = players_results[players_results.ranking <= 2]\n",
    "    return players_results"
   ]
  },
  {
   "cell_type": "code",
   "execution_count": null,
   "id": "1840afc6",
   "metadata": {},
   "outputs": [],
   "source": [
    "df_final_groupmatches_results = final_groupmatches_results(df_groupmatches_results, players2022, teams2groups)\n",
    "df_final_groupmatches_results"
   ]
  },
  {
   "cell_type": "code",
   "execution_count": null,
   "id": "ed256f61",
   "metadata": {},
   "outputs": [],
   "source": [
    "final_groupmatches_results(df_groupmatches_results, players2022, teams2groups, filter_winners=True)"
   ]
  },
  {
   "cell_type": "code",
   "execution_count": null,
   "id": "679c2736",
   "metadata": {},
   "outputs": [],
   "source": [
    "df_final_groupmatches_results.to_csv(\"predictions/final_groupmatches_results.csv\")"
   ]
  },
  {
   "cell_type": "code",
   "execution_count": null,
   "id": "60c816d7",
   "metadata": {},
   "outputs": [],
   "source": [
    "!ls predictions/"
   ]
  },
  {
   "cell_type": "code",
   "execution_count": null,
   "id": "4aa281ad",
   "metadata": {},
   "outputs": [],
   "source": [
    "def see_team_results(df_groupmatches_results, team):\n",
    "    df = df_groupmatches_results\n",
    "    return df[(df.home_team == team) | (df.away_team == team)]\n",
    "\n",
    "see_team_results(df_groupmatches_results, 'Brazil')"
   ]
  },
  {
   "cell_type": "markdown",
   "id": "3d8275ae",
   "metadata": {},
   "source": [
    "## Simular Eliminatória"
   ]
  },
  {
   "cell_type": "code",
   "execution_count": null,
   "id": "39afe03e",
   "metadata": {},
   "outputs": [],
   "source": [
    "teams_qualified = final_groupmatches_results(\n",
    "    df_groupmatches_results,\n",
    "    players2022,\n",
    "    teams2groups,\n",
    "    filter_winners=True\n",
    ").team.to_list()\n",
    "\n",
    "teams_qualified.remove(\"Mexico\")\n",
    "\n",
    "print(\"number teams: \", len(teams_qualified))\n",
    "\n",
    "teams_qualified"
   ]
  },
  {
   "cell_type": "code",
   "execution_count": null,
   "id": "371f9a94",
   "metadata": {},
   "outputs": [],
   "source": [
    "X_mata_mata = "
   ]
  }
 ],
 "metadata": {
  "kernelspec": {
   "display_name": "Copa 22",
   "language": "python",
   "name": "copa22"
  },
  "language_info": {
   "codemirror_mode": {
    "name": "ipython",
    "version": 3
   },
   "file_extension": ".py",
   "mimetype": "text/x-python",
   "name": "python",
   "nbconvert_exporter": "python",
   "pygments_lexer": "ipython3",
   "version": "3.10.0"
  }
 },
 "nbformat": 4,
 "nbformat_minor": 5
}
