{
 "cells": [
  {
   "cell_type": "markdown",
   "id": "09e0aeda",
   "metadata": {},
   "source": [
    "## Ideias\n",
    "\n",
    "- puxar dataframes e mostrar métodos básicos\n",
    "- algumas métricas legais, encontrar alguns casos do Brasil\n",
    "- plotar ratings no tempo\n",
    "- boas práticas de organização de código (identação, nomes)"
   ]
  },
  {
   "cell_type": "code",
   "execution_count": null,
   "id": "e153c987",
   "metadata": {},
   "outputs": [],
   "source": []
  }
 ],
 "metadata": {
  "kernelspec": {
   "display_name": "Python 3 (ipykernel)",
   "language": "python",
   "name": "python3"
  },
  "language_info": {
   "codemirror_mode": {
    "name": "ipython",
    "version": 3
   },
   "file_extension": ".py",
   "mimetype": "text/x-python",
   "name": "python",
   "nbconvert_exporter": "python",
   "pygments_lexer": "ipython3",
   "version": "3.10.6"
  }
 },
 "nbformat": 4,
 "nbformat_minor": 5
}
